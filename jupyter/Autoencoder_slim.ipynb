{
 "cells": [
  {
   "cell_type": "code",
   "execution_count": 1,
   "metadata": {},
   "outputs": [],
   "source": [
    "from tensorflow.contrib import slim\n",
    "import matplotlib.pyplot as plt\n",
    "import tensorflow as tf\n",
    "import numpy as np\n",
    "import cv2\n",
    "import os"
   ]
  },
  {
   "cell_type": "code",
   "execution_count": 2,
   "metadata": {},
   "outputs": [],
   "source": [
    "class autoencoder_slim(object):\n",
    "    \n",
    "    def __init__(self, inputs_shape= (50, 50), isTraining= True):\n",
    "        self.END = {}\n",
    "        self.learning_rate = 0.01\n",
    "        self.isTraining = isTraining\n",
    "        self.inputs_shape = inputs_shape\n",
    "        self.inputs_size = int(np.prod(self.inputs_shape))\n",
    "        self.inputs = tf.placeholder(tf.float32, shape= [None] + list(self.inputs_shape), name= 'inputs')\n",
    "        self.param_conv = dict(kernel_size= 3, stride= 1, padding= 'same', activation_fn= tf.nn.relu)\n",
    "        self.END = self.network()\n",
    "        pass\n",
    "    \n",
    "    def network(self, num_layers= 1):\n",
    "        self.END['inputs'] = net = self.inputs\n",
    "        with tf.name_scope('input_conv'):\n",
    "            self.END['input_conv'] = net = slim.repeat(net, 2, slim.conv1d, num_outputs= 64, **self.param_conv)\n",
    "        with tf.name_scope('encoder'):\n",
    "            self.END['encoder'] = net = slim.repeat(net, 2, slim.conv1d, num_outputs= 128, **self.param_conv)\n",
    "        with tf.name_scope('code'):\n",
    "            self.END['code'] = net = slim.repeat(net, 2, slim.conv1d, num_outputs= 2, **self.param_conv)\n",
    "        #with tf.name_scope('noise'):\n",
    "        #    self.END['noise'] = tf.random_normal(net.get_shape().as_list())\n",
    "        #    self.END['z'] = net = net + self.END['noise']\n",
    "        with tf.name_scope('decoder'):\n",
    "            self.END['decoder'] = net = slim.repeat(net, 2, slim.conv1d, num_outputs= 64, **self.param_conv)\n",
    "        with tf.name_scope('output_conv'):\n",
    "            self.END['output_conv'] = net = slim.repeat(net, 2, slim.conv1d, num_outputs= list(self.inputs_shape)[-1], **self.param_conv)\n",
    "        self.END['outputs'] = net = tf.reshape(net, [-1] + list(self.inputs_shape), name= 'outputs')\n",
    "        if self.isTraining:\n",
    "            with tf.name_scope('loss'):\n",
    "                self.END['loss'] = loss = tf.reduce_sum(self.inputs * tf.log(self.END['outputs'] + 1e-9) + (1 - self.inputs) * tf.log((1 - self.END['outputs'] + 1e-9)))\n",
    "                tf.summary.scalar(\"Loss\", loss)\n",
    "            with tf.name_scope('optimizer'):\n",
    "                self.END['optimizer'] = optimizer = tf.train.AdagradOptimizer(self.learning_rate).minimize(loss)\n",
    "        return self.END"
   ]
  },
  {
   "cell_type": "code",
   "execution_count": 3,
   "metadata": {},
   "outputs": [],
   "source": [
    "model_dir = os.path.join(os.getcwd(), \"model\")\n",
    "if not os.path.exists(model_dir):\n",
    "    os.makedirs(model_dir)\n",
    "MODEL_NAME = \"CNN.ckpt\"\n",
    "LOG_DIR = \"TensorBoard/\"\n",
    "SAVE_PATH = os.path.join(model_dir, MODEL_NAME)\n",
    "Training = True\n",
    "\n",
    "Name = 'Bus'\n",
    "cur_dir = os.getcwd()\n",
    "dataset = os.path.join(cur_dir, 'dataset')\n",
    "dataset_dir = os.path.join(dataset, Name)\n",
    "subimages = os.path.join(dataset_dir, 'SubImages')\n",
    "images_path = []\n",
    "if os.path.exists(subimages):\n",
    "    images_name = os.listdir(subimages)\n",
    "    for name in images_name:\n",
    "        images_path.append(os.path.join(subimages, name))"
   ]
  },
  {
   "cell_type": "code",
   "execution_count": 4,
   "metadata": {},
   "outputs": [],
   "source": [
    "# Build Net\n",
    "inputs_shape = (50, 50)\n",
    "auto = autoencoder_slim(inputs_shape= inputs_shape)"
   ]
  },
  {
   "cell_type": "code",
   "execution_count": 5,
   "metadata": {},
   "outputs": [],
   "source": [
    "SAVER = tf.train.Saver()\n",
    "init = tf.global_variables_initializer()\n",
    "cfg = tf.ConfigProto(log_device_placement= False, allow_soft_placement= True)\n",
    "cfg.gpu_options.per_process_gpu_memory_fraction = 0.8\n",
    "cfg.gpu_options.allow_growth = True\n",
    "sess = tf.InteractiveSession(config= cfg)\n",
    "sess.run(init)"
   ]
  },
  {
   "cell_type": "code",
   "execution_count": 17,
   "metadata": {},
   "outputs": [
    {
     "name": "stdout",
     "output_type": "stream",
     "text": [
      "(1, 50, 50)\n",
      "Loss : -20441.34765625\n",
      "(1, 50, 50)\n",
      "Loss : -22123.59375\n",
      "(1, 50, 50)\n",
      "Loss : -24951.7890625\n"
     ]
    }
   ],
   "source": [
    "inp = auto.inputs\n",
    "if Training:\n",
    "    img = cv2.imread(images_path[0])\n",
    "    img_shape = img.shape\n",
    "    img = cv2.resize(img, (inputs_shape[1], inputs_shape[0]), interpolation= cv2.INTER_LANCZOS4)\n",
    "    out_img = np.asarray(img)\n",
    "    for i in range(3):\n",
    "        inp_img = np.reshape(img[:, :,i], [1] + list(inputs_shape))\n",
    "        inp_img = inp_img / 255\n",
    "        sess.run(auto.END['optimizer'], feed_dict= {inp: inp_img})\n",
    "        loss = auto.END['loss'].eval(feed_dict= {inp: inp_img})\n",
    "        print (f\"Loss : {loss}\")\n",
    "        inp_conv = auto.END['input_conv'].eval(feed_dict= {inp: inp_img})\n",
    "        enc = auto.END['encoder'].eval(feed_dict= {inp: inp_img})\n",
    "        code = auto.END['code'].eval(feed_dict= {inp: inp_img})\n",
    "        dec = auto.END['decoder'].eval(feed_dict= {inp: inp_img})\n",
    "        oup_conv = auto.END['output_conv'].eval(feed_dict= {inp: inp_img})\n",
    "        out_img[:, :, i] = oup_conv"
   ]
  },
  {
   "cell_type": "code",
   "execution_count": 18,
   "metadata": {},
   "outputs": [
    {
     "name": "stdout",
     "output_type": "stream",
     "text": [
      "Input Conv : (1, 50, 64)\n",
      "Encoder : (1, 50, 128)\n",
      "Code : (1, 50, 2)\n",
      "Decoder : (1, 50, 64)\n",
      "Output Conv : (1, 50, 50)\n"
     ]
    }
   ],
   "source": [
    "print (f\"Input Conv : {inp_conv.shape}\\nEncoder : {enc.shape}\\nCode : {code.shape}\\nDecoder : {dec.shape}\\nOutput Conv : {oup_conv.shape}\")"
   ]
  },
  {
   "cell_type": "code",
   "execution_count": 19,
   "metadata": {},
   "outputs": [
    {
     "data": {
      "image/png": "[encoded data removed]",
      "text/plain": [
       "<Figure size 432x288 with 1 Axes>"
      ]
     },
     "metadata": {
      "needs_background": "light"
     },
     "output_type": "display_data"
    }
   ],
   "source": [
    "out_img = np.reshape(out_img * 255, list(inputs_shape) + [3])\n",
    "out_img = cv2.resize(out_img, (img_shape[1], img_shape[0]), interpolation= cv2.INTER_LANCZOS4).astype(np.uint8)\n",
    "plt.imshow(out_img)\n",
    "plt.show()"
   ]
  },
  {
   "cell_type": "code",
   "execution_count": 23,
   "metadata": {},
   "outputs": [
    {
     "name": "stdout",
     "output_type": "stream",
     "text": [
      "Loss : -20441.34765625\n",
      "Loss : -22123.59375\n",
      "Loss : -24951.7890625\n",
      "Loss : -20441.34765625\n",
      "Loss : -22123.59375\n",
      "Loss : -24951.7890625\n",
      "Loss : -20441.34765625\n",
      "Loss : -22123.59375\n",
      "Loss : -24951.7890625\n",
      "Loss : -20441.34765625\n",
      "Loss : -22123.59375\n",
      "Loss : -24951.7890625\n",
      "Loss : -20441.34765625\n",
      "Loss : -22123.59375\n",
      "Loss : -24951.7890625\n",
      "Loss : -20441.34765625\n",
      "Loss : -22123.59375\n",
      "Loss : -24951.7890625\n",
      "Loss : -20441.34765625\n",
      "Loss : -22123.59375\n",
      "Loss : -24951.7890625\n",
      "Loss : -20441.34765625\n",
      "Loss : -22123.59375\n",
      "Loss : -24951.7890625\n",
      "Loss : -20441.34765625\n",
      "Loss : -22123.59375\n",
      "Loss : -24951.7890625\n",
      "Loss : -20441.34765625\n",
      "Loss : -22123.59375\n",
      "Loss : -24951.7890625\n"
     ]
    }
   ],
   "source": [
    "inp = auto.inputs\n",
    "out_imgs = []\n",
    "losses = []\n",
    "codes = []\n",
    "if Training:\n",
    "    num_iterations = 1000\n",
    "    log_iterations = 100\n",
    "    for i in range(num_iterations):\n",
    "        img = cv2.imread(images_path[0])\n",
    "        img_shape = img.shape\n",
    "        img = cv2.resize(img, (inputs_shape[1], inputs_shape[0]), interpolation= cv2.INTER_LANCZOS4)\n",
    "        out_img = np.asarray(img)\n",
    "        for j in range(3):\n",
    "            inp_img = np.reshape(img[:, :,j], [1] + list(inputs_shape))\n",
    "            inp_img = inp_img / 255\n",
    "            sess.run(auto.END['optimizer'], feed_dict= {inp: inp_img})\n",
    "            if i % log_iterations == 0:\n",
    "                loss = auto.END['loss'].eval(feed_dict= {inp: inp_img})\n",
    "                print (f\"Loss : {loss}\")\n",
    "                code = auto.END['code'].eval(feed_dict= {inp: inp_img})\n",
    "                codes.append(code)                                      \n",
    "                losses.append(loss)\n",
    "            oup_conv = auto.END['output_conv'].eval(feed_dict= {inp: inp_img})\n",
    "        out_img[:, :, j] = oup_conv\n",
    "merged = tf.summary.merge_all()\n",
    "writer = tf.summary.FileWriter(LOG_DIR, graph = sess.graph)"
   ]
  },
  {
   "cell_type": "code",
   "execution_count": 24,
   "metadata": {},
   "outputs": [],
   "source": [
    "sess.close()"
   ]
  },
  {
   "cell_type": "code",
   "execution_count": null,
   "metadata": {},
   "outputs": [],
   "source": []
  }
 ],
 "metadata": {
  "kernelspec": {
   "display_name": "Python 3",
   "language": "python",
   "name": "python3"
  },
  "language_info": {
   "codemirror_mode": {
    "name": "ipython",
    "version": 3
   },
   "file_extension": ".py",
   "mimetype": "text/x-python",
   "name": "python",
   "nbconvert_exporter": "python",
   "pygments_lexer": "ipython3",
   "version": "3.6.6"
  }
 },
 "nbformat": 4,
 "nbformat_minor": 2
}
